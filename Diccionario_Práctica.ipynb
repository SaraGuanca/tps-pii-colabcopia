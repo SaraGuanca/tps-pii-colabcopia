{
  "nbformat": 4,
  "nbformat_minor": 0,
  "metadata": {
    "colab": {
      "provenance": [],
      "include_colab_link": true
    },
    "kernelspec": {
      "name": "python3",
      "display_name": "Python 3"
    },
    "language_info": {
      "name": "python"
    }
  },
  "cells": [
    {
      "cell_type": "markdown",
      "metadata": {
        "id": "view-in-github",
        "colab_type": "text"
      },
      "source": [
        "<a href=\"https://colab.research.google.com/github/SaraGuanca/tps-pii-colabcopia/blob/main/Diccionario_Pr%C3%A1ctica.ipynb\" target=\"_parent\"><img src=\"https://colab.research.google.com/assets/colab-badge.svg\" alt=\"Open In Colab\"/></a>"
      ]
    },
    {
      "cell_type": "code",
      "execution_count": null,
      "metadata": {
        "id": "8VOD-zpMJovw"
      },
      "outputs": [],
      "source": [
        "# Listas de alumnos\n",
        "estudiantes_5d = [\n",
        "   (\"Alurralde, Solange Stefania\",\"D\",\"02/04/2007\"),\n",
        "   (\"Alvarado, Ludmila Del Milagro\",\"D\",\"06/09/2006\"),\n",
        "   (\"Angel, Camila Juliana\",\"D\",\"07/03/2007\"),\n",
        "   (\"Arenas, Lucas Gabriel\",\"D\",\"26/06/2007\"),\n",
        "   (\"Caseres, Maria Antonia\",\"D\",\"01/07/2006\"),\n",
        "   (\"Castillo, Paulina Milagros\",\"D\",\"01/06/2007\"),\n",
        "   (\"Correa Segovia, Hugo Mariano\",\"D\",\"04/12/2006\"),\n",
        "   (\"D Elia, Alvaro Tadeo\",\"D\",\"27/08/2006\"),\n",
        "   (\"Flores, Victoria Agustina\",\"D\",\"12/12/2006\"),\n",
        "   (\"Geronimo Soriano, Lizzie Amaya\",\"D\",\"20/01/2007\"),\n",
        "   (\"GUZMAN, ANGÉLICA MORENA\",\"D\",\"11/04/2007\"),\n",
        "   (\"Guzman, Jazmin Esmeralda Belen\",\"D\",\"31/07/2006\"),\n",
        "   (\"Jaime, Anita Maria Belen\",\"D\",\"19/04/2007\"),\n",
        "   (\"Lacour Polo, Nazarena\",\"D\",\"19/12/2005\"),\n",
        "   (\"Lascano Guanca, Marcelo Fabricio\",\"D\",\"17/02/2006\"),\n",
        "   (\"Lezcano, Celia Morena\",\"D\",\"01/07/2005\"),\n",
        "   (\"Martinez, Tomas Andres\",\"D\",\"22/03/2007\"),\n",
        "   (\"PORTELLA VALDIVIA, PEDRO FRANCISCO\",\"D\",\"24/01/2007\"),\n",
        "   (\"Retamal Cisneros, Zacarias Josue\",\"D\",\"24/02/2007\"),\n",
        "   (\"Rosales, Francisco Gabriel\",\"D\",\"14/11/2006\"),\n",
        "   (\"Salem Barba, Mahia\",\"D\",\"14/10/2005\"),\n",
        "   (\"Soto Camara, Agustin Ignacio\",\"D\",\"07/11/2005\"),\n",
        "   (\"Villalba, Irina\",\"D\",\"09/09/2006\"),\n",
        "   (\"Voltolini, Emanuel Tobias\",\"D\",\"17/09/2006\"),\n",
        "   (\"Zalazar, Santino Stefano\",\"D\",\"30/09/2006\")\n",
        "]\n",
        "\n",
        "estudiantes_5c=[\n",
        "    (\"ABUD LASPIUR, LOURDES MARIEL\",\"C\",\"05/12/2006\"),\n",
        "    (\"Amador, Luana Micaela\",\"C\",\"09/12/2006\"),\n",
        "    (\"Anaquin, Leonardo Ezequiel\",\"C\",\"06/09/2005\"),\n",
        "    (\"Araoz Sanchez, Lautaro Nahuel\",\"C\",\"28/12/2005\"),\n",
        "    (\"Argañaraz, Agostina Abril\",\"C\",\"11/10/2006\"),\n",
        "    (\"Barrera, Matias Ezequiel\",\"C\",\"27/02/2007\"),\n",
        "    (\"Barrozo Vedia, Joaquin Nicolas\",\"C\",\"15/04/2006\"),\n",
        "    (\"Bettinelli, Valentino\",\"C\",\"12/07/2006\"),\n",
        "    (\"Bracamonte Martinez, Salvador\",\"C\",\"02/11/2005\"),\n",
        "    (\"Colque Rivero, Ariana Zoe Del Valle\",\"C\",\"27/12/2006\"),\n",
        "    (\"Diaz, Dulce Maitena\",\"C\",\"11/12/2006\"),\n",
        "    (\"FIGUEROA, SANTINO JOSUE\",\"C\",\"12/05/2007\"),\n",
        "    (\"Flores Cardozo, Agustina Tiara\",\"C\",\"18/03/2006\"),\n",
        "    (\"Gallo, Octavio Ismael\",\"C\",\"04/08/2006\"),\n",
        "    (\"Galvan, Lourdes Yamila\",\"C\",\"19/08/2005\"),\n",
        "    (\"Giangreco, Vitto Tomasso\",\"C\",\"21/03/2007\"),\n",
        "    (\"Grancara, Martina Luna\",\"C\",\"15/12/2006\"),\n",
        "    (\"Guanca, Sara Elizabeth\",\"C\",\"17/01/2007\"),\n",
        "    (\"Lopez, Victoria Constanza\",\"C\",\"12/11/2007\"),\n",
        "    (\"Mamani Garrido, Rosario Agostina\",\"C\",\"24/10/2006\"),\n",
        "    (\"Marinaro, Martin Ezequiel\",\"C\",\"03/11/2006\"),\n",
        "    (\"Merluzzi Dagum, Ignacio\",\"C\",\"22/12/2005\"),\n",
        "    (\"Messina, Martina\",\"C\",\"13/07/2005\"),\n",
        "    (\"RASUK, KARIM\", \"C\",\"13/07/2007\"),\n",
        "    (\"Rios, Lucia Magali\",\"C\",\"22/09/2006\"),\n",
        "    (\"Sanchez Flores, Matías Agustín\",\"C\",\"15/02/2007\"),\n",
        "    (\"Scarano, Renato Marcelo\",\"C\",\"06/12/2006\"),\n",
        "    (\"Sierra, Lucas Mauricio\",\"C\",\"03/04/2005\"),\n",
        "    (\"Tapia, Martin Gabriel\",\"C\",\"30/05/2006\"),\n",
        "    (\"Vilte, Mia Antonella Alondra\",\"C\",\"10/09/2005\"),\n",
        "    (\"Virgillito, Katya Milena\",\"C\",\"19/06/2007\")\n",
        "]"
      ]
    },
    {
      "cell_type": "markdown",
      "source": [
        "## Dada la lista estudiantes:\n",
        "> - Hacer una celda para resolver cada punto.\n",
        "- El TP resuelto será revisado en tu repositorio, no es necesario que lo envíes, pero sí que lo pushees correctamente.\n",
        "- En la nota inicial se contempla:\n",
        "  - La incorporación de este documento a tu propio respositorio.\n",
        "  - El pusheo de los cambios realizados.\n",
        "  - La resolución de los ejercicios propuestos.\n"
      ],
      "metadata": {
        "id": "rd6Ug6v3J4uN"
      }
    },
    {
      "cell_type": "markdown",
      "source": [
        "1. Reemplaza todos los valores del nombre por los que obtengas del método title(). De esta manera las listas quedaran con los datos más homogéneos."
      ],
      "metadata": {
        "id": "wRLng-uURyJ3"
      }
    },
    {
      "cell_type": "code",
      "source": [
        "for i in range(len(estudiantes_5c)):\n",
        "  nombre, divi, fecha_nac= estudiantes_5c[i]\n",
        "  estudiantes_5c[i]= nombre.title(),divi,fecha_nac\n",
        "for estudiante in estudiantes_5c:\n",
        "  print(estudiante)\n",
        "\n",
        "for i in range(len(estudiantes_5d)):\n",
        "  nombre, divi, fecha_nac= estudiantes_5d[i]\n",
        "  estudiantes_5d[i]= nombre.title(),divi,fecha_nac\n",
        "for estudiante in estudiantes_5d:\n",
        "  print(estudiante)"
      ],
      "metadata": {
        "id": "5lFqJoTaSIWi",
        "outputId": "eb9d6ec2-58fe-4791-ea06-db95c219cbd1",
        "colab": {
          "base_uri": "https://localhost:8080/"
        }
      },
      "execution_count": null,
      "outputs": [
        {
          "output_type": "stream",
          "name": "stdout",
          "text": [
            "('Abud Laspiur, Lourdes Mariel', 'C', '05/12/2006')\n",
            "('Amador, Luana Micaela', 'C', '09/12/2006')\n",
            "('Anaquin, Leonardo Ezequiel', 'C', '06/09/2005')\n",
            "('Araoz Sanchez, Lautaro Nahuel', 'C', '28/12/2005')\n",
            "('Argañaraz, Agostina Abril', 'C', '11/10/2006')\n",
            "('Barrera, Matias Ezequiel', 'C', '27/02/2007')\n",
            "('Barrozo Vedia, Joaquin Nicolas', 'C', '15/04/2006')\n",
            "('Bettinelli, Valentino', 'C', '12/07/2006')\n",
            "('Bracamonte Martinez, Salvador', 'C', '02/11/2005')\n",
            "('Colque Rivero, Ariana Zoe Del Valle', 'C', '27/12/2006')\n",
            "('Diaz, Dulce Maitena', 'C', '11/12/2006')\n",
            "('Figueroa, Santino Josue', 'C', '12/05/2007')\n",
            "('Flores Cardozo, Agustina Tiara', 'C', '18/03/2006')\n",
            "('Gallo, Octavio Ismael', 'C', '04/08/2006')\n",
            "('Galvan, Lourdes Yamila', 'C', '19/08/2005')\n",
            "('Giangreco, Vitto Tomasso', 'C', '21/03/2007')\n",
            "('Grancara, Martina Luna', 'C', '15/12/2006')\n",
            "('Guanca, Sara Elizabeth', 'C', '17/01/2007')\n",
            "('Lopez, Victoria Constanza', 'C', '12/11/2007')\n",
            "('Mamani Garrido, Rosario Agostina', 'C', '24/10/2006')\n",
            "('Marinaro, Martin Ezequiel', 'C', '03/11/2006')\n",
            "('Merluzzi Dagum, Ignacio', 'C', '22/12/2005')\n",
            "('Messina, Martina', 'C', '13/07/2005')\n",
            "('Rasuk, Karim', 'C', '13/07/2007')\n",
            "('Rios, Lucia Magali', 'C', '22/09/2006')\n",
            "('Sanchez Flores, Matías Agustín', 'C', '15/02/2007')\n",
            "('Scarano, Renato Marcelo', 'C', '06/12/2006')\n",
            "('Sierra, Lucas Mauricio', 'C', '03/04/2005')\n",
            "('Tapia, Martin Gabriel', 'C', '30/05/2006')\n",
            "('Vilte, Mia Antonella Alondra', 'C', '10/09/2005')\n",
            "('Virgillito, Katya Milena', 'C', '19/06/2007')\n",
            "('Alurralde, Solange Stefania', 'D', '02/04/2007')\n",
            "('Alvarado, Ludmila Del Milagro', 'D', '06/09/2006')\n",
            "('Angel, Camila Juliana', 'D', '07/03/2007')\n",
            "('Arenas, Lucas Gabriel', 'D', '26/06/2007')\n",
            "('Caseres, Maria Antonia', 'D', '01/07/2006')\n",
            "('Castillo, Paulina Milagros', 'D', '01/06/2007')\n",
            "('Correa Segovia, Hugo Mariano', 'D', '04/12/2006')\n",
            "('D Elia, Alvaro Tadeo', 'D', '27/08/2006')\n",
            "('Flores, Victoria Agustina', 'D', '12/12/2006')\n",
            "('Geronimo Soriano, Lizzie Amaya', 'D', '20/01/2007')\n",
            "('Guzman, Angélica Morena', 'D', '11/04/2007')\n",
            "('Guzman, Jazmin Esmeralda Belen', 'D', '31/07/2006')\n",
            "('Jaime, Anita Maria Belen', 'D', '19/04/2007')\n",
            "('Lacour Polo, Nazarena', 'D', '19/12/2005')\n",
            "('Lascano Guanca, Marcelo Fabricio', 'D', '17/02/2006')\n",
            "('Lezcano, Celia Morena', 'D', '01/07/2005')\n",
            "('Martinez, Tomas Andres', 'D', '22/03/2007')\n",
            "('Portella Valdivia, Pedro Francisco', 'D', '24/01/2007')\n",
            "('Retamal Cisneros, Zacarias Josue', 'D', '24/02/2007')\n",
            "('Rosales, Francisco Gabriel', 'D', '14/11/2006')\n",
            "('Salem Barba, Mahia', 'D', '14/10/2005')\n",
            "('Soto Camara, Agustin Ignacio', 'D', '07/11/2005')\n",
            "('Villalba, Irina', 'D', '09/09/2006')\n",
            "('Voltolini, Emanuel Tobias', 'D', '17/09/2006')\n",
            "('Zalazar, Santino Stefano', 'D', '30/09/2006')\n"
          ]
        }
      ]
    },
    {
      "cell_type": "markdown",
      "source": [
        "2. Genera una lista de diccionarios con los datos de las listas, donde las claves de los mismos serán:\n",
        "- \"apellido\"\n",
        "- \"nombre\"\n",
        "- \"curso\"\n",
        "- \"division\"\n",
        "- \"feha_de_nacimiento\"\n",
        "\n",
        "Muestra la información generada."
      ],
      "metadata": {
        "id": "dYEGkYZyLy9I"
      }
    },
    {
      "cell_type": "code",
      "source": [
        "lista_dict = []\n",
        "for estudiante in estudiantes_5c:\n",
        "  nombre_c, divicion, fecha_nac = estudiante\n",
        "  apellido, nombre = nombre_c.split(\",\")\n",
        "  nombre = nombre.split()\n",
        "  diccionario = {}\n",
        "  diccionario [\"nombre\"] = nombre\n",
        "  diccionario [\"apellido\"] = apellido\n",
        "  diccionario [\"curso\"] = 5\n",
        "  diccionario [\"divicion\"] = divicion\n",
        "  diccionario [\"fecha de nacimiento\"] = fecha_nac\n",
        "  lista_dict.append(diccionario)\n",
        "\n",
        "for estudiante in lista_dict:\n",
        "  print(estudiante)\n",
        "\n",
        "\n",
        "lista_dict = []\n",
        "for estudiante in estudiantes_5d:\n",
        "  nombre_c, divicion, fecha_nac = estudiante\n",
        "  apellido, nombre = nombre_c.split(\",\")\n",
        "  nombre = nombre.split()\n",
        "  diccionario = {}\n",
        "  diccionario [\"nombre\"] = nombre\n",
        "  diccionario [\"apellido\"] = apellido\n",
        "  diccionario [\"curso\"] = 5\n",
        "  diccionario [\"divicion\"] = divicion\n",
        "  diccionario [\"fecha de nacimiento\"] = fecha_nac\n",
        "  lista_dict.append(diccionario)\n",
        "\n",
        "for estudiante in lista_dict:\n",
        "  print(estudiante)"
      ],
      "metadata": {
        "id": "z-MKdN2BbGuS",
        "outputId": "68417720-a37b-43ec-bd33-01d75bff43ed",
        "colab": {
          "base_uri": "https://localhost:8080/"
        }
      },
      "execution_count": null,
      "outputs": [
        {
          "output_type": "stream",
          "name": "stdout",
          "text": [
            "{'nombre': ['Lourdes', 'Mariel'], 'apellido': 'Abud Laspiur', 'curso': 5, 'divicion': 'C', 'fecha de nacimiento': '05/12/2006'}\n",
            "{'nombre': ['Luana', 'Micaela'], 'apellido': 'Amador', 'curso': 5, 'divicion': 'C', 'fecha de nacimiento': '09/12/2006'}\n",
            "{'nombre': ['Leonardo', 'Ezequiel'], 'apellido': 'Anaquin', 'curso': 5, 'divicion': 'C', 'fecha de nacimiento': '06/09/2005'}\n",
            "{'nombre': ['Lautaro', 'Nahuel'], 'apellido': 'Araoz Sanchez', 'curso': 5, 'divicion': 'C', 'fecha de nacimiento': '28/12/2005'}\n",
            "{'nombre': ['Agostina', 'Abril'], 'apellido': 'Argañaraz', 'curso': 5, 'divicion': 'C', 'fecha de nacimiento': '11/10/2006'}\n",
            "{'nombre': ['Matias', 'Ezequiel'], 'apellido': 'Barrera', 'curso': 5, 'divicion': 'C', 'fecha de nacimiento': '27/02/2007'}\n",
            "{'nombre': ['Joaquin', 'Nicolas'], 'apellido': 'Barrozo Vedia', 'curso': 5, 'divicion': 'C', 'fecha de nacimiento': '15/04/2006'}\n",
            "{'nombre': ['Valentino'], 'apellido': 'Bettinelli', 'curso': 5, 'divicion': 'C', 'fecha de nacimiento': '12/07/2006'}\n",
            "{'nombre': ['Salvador'], 'apellido': 'Bracamonte Martinez', 'curso': 5, 'divicion': 'C', 'fecha de nacimiento': '02/11/2005'}\n",
            "{'nombre': ['Ariana', 'Zoe', 'Del', 'Valle'], 'apellido': 'Colque Rivero', 'curso': 5, 'divicion': 'C', 'fecha de nacimiento': '27/12/2006'}\n",
            "{'nombre': ['Dulce', 'Maitena'], 'apellido': 'Diaz', 'curso': 5, 'divicion': 'C', 'fecha de nacimiento': '11/12/2006'}\n",
            "{'nombre': ['Santino', 'Josue'], 'apellido': 'Figueroa', 'curso': 5, 'divicion': 'C', 'fecha de nacimiento': '12/05/2007'}\n",
            "{'nombre': ['Agustina', 'Tiara'], 'apellido': 'Flores Cardozo', 'curso': 5, 'divicion': 'C', 'fecha de nacimiento': '18/03/2006'}\n",
            "{'nombre': ['Octavio', 'Ismael'], 'apellido': 'Gallo', 'curso': 5, 'divicion': 'C', 'fecha de nacimiento': '04/08/2006'}\n",
            "{'nombre': ['Lourdes', 'Yamila'], 'apellido': 'Galvan', 'curso': 5, 'divicion': 'C', 'fecha de nacimiento': '19/08/2005'}\n",
            "{'nombre': ['Vitto', 'Tomasso'], 'apellido': 'Giangreco', 'curso': 5, 'divicion': 'C', 'fecha de nacimiento': '21/03/2007'}\n",
            "{'nombre': ['Martina', 'Luna'], 'apellido': 'Grancara', 'curso': 5, 'divicion': 'C', 'fecha de nacimiento': '15/12/2006'}\n",
            "{'nombre': ['Sara', 'Elizabeth'], 'apellido': 'Guanca', 'curso': 5, 'divicion': 'C', 'fecha de nacimiento': '17/01/2007'}\n",
            "{'nombre': ['Victoria', 'Constanza'], 'apellido': 'Lopez', 'curso': 5, 'divicion': 'C', 'fecha de nacimiento': '12/11/2007'}\n",
            "{'nombre': ['Rosario', 'Agostina'], 'apellido': 'Mamani Garrido', 'curso': 5, 'divicion': 'C', 'fecha de nacimiento': '24/10/2006'}\n",
            "{'nombre': ['Martin', 'Ezequiel'], 'apellido': 'Marinaro', 'curso': 5, 'divicion': 'C', 'fecha de nacimiento': '03/11/2006'}\n",
            "{'nombre': ['Ignacio'], 'apellido': 'Merluzzi Dagum', 'curso': 5, 'divicion': 'C', 'fecha de nacimiento': '22/12/2005'}\n",
            "{'nombre': ['Martina'], 'apellido': 'Messina', 'curso': 5, 'divicion': 'C', 'fecha de nacimiento': '13/07/2005'}\n",
            "{'nombre': ['Karim'], 'apellido': 'Rasuk', 'curso': 5, 'divicion': 'C', 'fecha de nacimiento': '13/07/2007'}\n",
            "{'nombre': ['Lucia', 'Magali'], 'apellido': 'Rios', 'curso': 5, 'divicion': 'C', 'fecha de nacimiento': '22/09/2006'}\n",
            "{'nombre': ['Matías', 'Agustín'], 'apellido': 'Sanchez Flores', 'curso': 5, 'divicion': 'C', 'fecha de nacimiento': '15/02/2007'}\n",
            "{'nombre': ['Renato', 'Marcelo'], 'apellido': 'Scarano', 'curso': 5, 'divicion': 'C', 'fecha de nacimiento': '06/12/2006'}\n",
            "{'nombre': ['Lucas', 'Mauricio'], 'apellido': 'Sierra', 'curso': 5, 'divicion': 'C', 'fecha de nacimiento': '03/04/2005'}\n",
            "{'nombre': ['Martin', 'Gabriel'], 'apellido': 'Tapia', 'curso': 5, 'divicion': 'C', 'fecha de nacimiento': '30/05/2006'}\n",
            "{'nombre': ['Mia', 'Antonella', 'Alondra'], 'apellido': 'Vilte', 'curso': 5, 'divicion': 'C', 'fecha de nacimiento': '10/09/2005'}\n",
            "{'nombre': ['Katya', 'Milena'], 'apellido': 'Virgillito', 'curso': 5, 'divicion': 'C', 'fecha de nacimiento': '19/06/2007'}\n",
            "{'nombre': ['Solange', 'Stefania'], 'apellido': 'Alurralde', 'curso': 5, 'divicion': 'D', 'fecha de nacimiento': '02/04/2007'}\n",
            "{'nombre': ['Ludmila', 'Del', 'Milagro'], 'apellido': 'Alvarado', 'curso': 5, 'divicion': 'D', 'fecha de nacimiento': '06/09/2006'}\n",
            "{'nombre': ['Camila', 'Juliana'], 'apellido': 'Angel', 'curso': 5, 'divicion': 'D', 'fecha de nacimiento': '07/03/2007'}\n",
            "{'nombre': ['Lucas', 'Gabriel'], 'apellido': 'Arenas', 'curso': 5, 'divicion': 'D', 'fecha de nacimiento': '26/06/2007'}\n",
            "{'nombre': ['Maria', 'Antonia'], 'apellido': 'Caseres', 'curso': 5, 'divicion': 'D', 'fecha de nacimiento': '01/07/2006'}\n",
            "{'nombre': ['Paulina', 'Milagros'], 'apellido': 'Castillo', 'curso': 5, 'divicion': 'D', 'fecha de nacimiento': '01/06/2007'}\n",
            "{'nombre': ['Hugo', 'Mariano'], 'apellido': 'Correa Segovia', 'curso': 5, 'divicion': 'D', 'fecha de nacimiento': '04/12/2006'}\n",
            "{'nombre': ['Alvaro', 'Tadeo'], 'apellido': 'D Elia', 'curso': 5, 'divicion': 'D', 'fecha de nacimiento': '27/08/2006'}\n",
            "{'nombre': ['Victoria', 'Agustina'], 'apellido': 'Flores', 'curso': 5, 'divicion': 'D', 'fecha de nacimiento': '12/12/2006'}\n",
            "{'nombre': ['Lizzie', 'Amaya'], 'apellido': 'Geronimo Soriano', 'curso': 5, 'divicion': 'D', 'fecha de nacimiento': '20/01/2007'}\n",
            "{'nombre': ['Angélica', 'Morena'], 'apellido': 'Guzman', 'curso': 5, 'divicion': 'D', 'fecha de nacimiento': '11/04/2007'}\n",
            "{'nombre': ['Jazmin', 'Esmeralda', 'Belen'], 'apellido': 'Guzman', 'curso': 5, 'divicion': 'D', 'fecha de nacimiento': '31/07/2006'}\n",
            "{'nombre': ['Anita', 'Maria', 'Belen'], 'apellido': 'Jaime', 'curso': 5, 'divicion': 'D', 'fecha de nacimiento': '19/04/2007'}\n",
            "{'nombre': ['Nazarena'], 'apellido': 'Lacour Polo', 'curso': 5, 'divicion': 'D', 'fecha de nacimiento': '19/12/2005'}\n",
            "{'nombre': ['Marcelo', 'Fabricio'], 'apellido': 'Lascano Guanca', 'curso': 5, 'divicion': 'D', 'fecha de nacimiento': '17/02/2006'}\n",
            "{'nombre': ['Celia', 'Morena'], 'apellido': 'Lezcano', 'curso': 5, 'divicion': 'D', 'fecha de nacimiento': '01/07/2005'}\n",
            "{'nombre': ['Tomas', 'Andres'], 'apellido': 'Martinez', 'curso': 5, 'divicion': 'D', 'fecha de nacimiento': '22/03/2007'}\n",
            "{'nombre': ['Pedro', 'Francisco'], 'apellido': 'Portella Valdivia', 'curso': 5, 'divicion': 'D', 'fecha de nacimiento': '24/01/2007'}\n",
            "{'nombre': ['Zacarias', 'Josue'], 'apellido': 'Retamal Cisneros', 'curso': 5, 'divicion': 'D', 'fecha de nacimiento': '24/02/2007'}\n",
            "{'nombre': ['Francisco', 'Gabriel'], 'apellido': 'Rosales', 'curso': 5, 'divicion': 'D', 'fecha de nacimiento': '14/11/2006'}\n",
            "{'nombre': ['Mahia'], 'apellido': 'Salem Barba', 'curso': 5, 'divicion': 'D', 'fecha de nacimiento': '14/10/2005'}\n",
            "{'nombre': ['Agustin', 'Ignacio'], 'apellido': 'Soto Camara', 'curso': 5, 'divicion': 'D', 'fecha de nacimiento': '07/11/2005'}\n",
            "{'nombre': ['Irina'], 'apellido': 'Villalba', 'curso': 5, 'divicion': 'D', 'fecha de nacimiento': '09/09/2006'}\n",
            "{'nombre': ['Emanuel', 'Tobias'], 'apellido': 'Voltolini', 'curso': 5, 'divicion': 'D', 'fecha de nacimiento': '17/09/2006'}\n",
            "{'nombre': ['Santino', 'Stefano'], 'apellido': 'Zalazar', 'curso': 5, 'divicion': 'D', 'fecha de nacimiento': '30/09/2006'}\n"
          ]
        }
      ]
    },
    {
      "cell_type": "markdown",
      "source": [
        "3. Genera un diccionario en python, en donde la clave sea cada nombre que aparece en las listas y el valor será la cantidad de veces que se encuentra el mismo.\n",
        "Para este punto es posible fusionar ambas listas en una sola, recordá que hay un método que realiza esta acción.\n",
        "\n",
        "Mostrá la informacion generada"
      ],
      "metadata": {
        "id": "UW2dlBsGMAte"
      }
    },
    {
      "cell_type": "code",
      "source": [
        "dict_nombres = {}\n",
        "estudiantes_5 = []\n",
        "estudiantes_5.extend(estudiantes_5d)\n",
        "estudiantes_5.extend(estudiantes_5c)\n",
        "for estudiante in estudiantes_5:\n",
        "  nombre = estudiante[\"nombre\"].split(\" \")\n",
        "  for nombre in nombre:\n",
        "    if nombre in dict_nombres.keys():\n",
        "      dict_nombres[nombre] += 1\n",
        "    else:\n",
        "      dict_nombres[nombre] = 1\n",
        "\n",
        "for nombre in dict_nombres:\n",
        "  print(f\"{nombre}: {dict_nombres[nombre]}\")"
      ],
      "metadata": {
        "id": "EawAy4SANtkl",
        "outputId": "e3b61d4b-e3e3-42be-88b2-98787fa258e4",
        "colab": {
          "base_uri": "https://localhost:8080/",
          "height": 211
        }
      },
      "execution_count": null,
      "outputs": [
        {
          "output_type": "error",
          "ename": "TypeError",
          "evalue": "tuple indices must be integers or slices, not str",
          "traceback": [
            "\u001b[0;31m---------------------------------------------------------------------------\u001b[0m",
            "\u001b[0;31mTypeError\u001b[0m                                 Traceback (most recent call last)",
            "\u001b[0;32m<ipython-input-8-9aeb7c479335>\u001b[0m in \u001b[0;36m<cell line: 5>\u001b[0;34m()\u001b[0m\n\u001b[1;32m      4\u001b[0m \u001b[0mestudiantes_5\u001b[0m\u001b[0;34m.\u001b[0m\u001b[0mextend\u001b[0m\u001b[0;34m(\u001b[0m\u001b[0mestudiantes_5c\u001b[0m\u001b[0;34m)\u001b[0m\u001b[0;34m\u001b[0m\u001b[0;34m\u001b[0m\u001b[0m\n\u001b[1;32m      5\u001b[0m \u001b[0;32mfor\u001b[0m \u001b[0mestudiante\u001b[0m \u001b[0;32min\u001b[0m \u001b[0mestudiantes_5\u001b[0m\u001b[0;34m:\u001b[0m\u001b[0;34m\u001b[0m\u001b[0;34m\u001b[0m\u001b[0m\n\u001b[0;32m----> 6\u001b[0;31m   \u001b[0mnombre\u001b[0m \u001b[0;34m=\u001b[0m \u001b[0mestudiante\u001b[0m\u001b[0;34m[\u001b[0m\u001b[0;34m\"nombre\"\u001b[0m\u001b[0;34m]\u001b[0m\u001b[0;34m.\u001b[0m\u001b[0msplit\u001b[0m\u001b[0;34m(\u001b[0m\u001b[0;34m\" \"\u001b[0m\u001b[0;34m)\u001b[0m\u001b[0;34m\u001b[0m\u001b[0;34m\u001b[0m\u001b[0m\n\u001b[0m\u001b[1;32m      7\u001b[0m   \u001b[0;32mfor\u001b[0m \u001b[0mnombre\u001b[0m \u001b[0;32min\u001b[0m \u001b[0mnombre\u001b[0m\u001b[0;34m:\u001b[0m\u001b[0;34m\u001b[0m\u001b[0;34m\u001b[0m\u001b[0m\n\u001b[1;32m      8\u001b[0m     \u001b[0;32mif\u001b[0m \u001b[0mnombre\u001b[0m \u001b[0;32min\u001b[0m \u001b[0mdict_nombres\u001b[0m\u001b[0;34m.\u001b[0m\u001b[0mkeys\u001b[0m\u001b[0;34m(\u001b[0m\u001b[0;34m)\u001b[0m\u001b[0;34m:\u001b[0m\u001b[0;34m\u001b[0m\u001b[0;34m\u001b[0m\u001b[0m\n",
            "\u001b[0;31mTypeError\u001b[0m: tuple indices must be integers or slices, not str"
          ]
        }
      ]
    },
    {
      "cell_type": "markdown",
      "source": [
        "4. Genera un diccionario en python, en donde la clave sea cada apellido que aparece en las listas y el valor será la cantidad de veces que se encuentra el mismo.\n",
        "Para este punto es posible fusionar ambas listas en una sola, recordá que hay un método que realiza esta acción."
      ],
      "metadata": {
        "id": "kZeEHUYVNwGV"
      }
    },
    {
      "cell_type": "code",
      "source": [
        "dict_apellidos = {}\n",
        "estudiantes_5d.extend(estudiantes_5c)\n",
        "for estudiante in estudiantes_5d:\n",
        "  apellidos = estudiante[\"apellido\"].split(\" \")\n",
        "  for apellido in apellidos:\n",
        "    if apellido in dict_apellidos.keys():\n",
        "      dict_apellidos[apellido] += 1\n",
        "    else:\n",
        "      dict_apellidos[apellido] = 1\n",
        "\n",
        "for apellido in dict_apellidos:\n",
        "  print(f\"{apellido}: {dict_apellidos[apellido]}\")"
      ],
      "metadata": {
        "id": "q05GnxXgORzt",
        "outputId": "ce90f3ca-8f63-4d49-c492-d51974ddf5e4",
        "colab": {
          "base_uri": "https://localhost:8080/",
          "height": 211
        }
      },
      "execution_count": null,
      "outputs": [
        {
          "output_type": "error",
          "ename": "TypeError",
          "evalue": "tuple indices must be integers or slices, not str",
          "traceback": [
            "\u001b[0;31m---------------------------------------------------------------------------\u001b[0m",
            "\u001b[0;31mTypeError\u001b[0m                                 Traceback (most recent call last)",
            "\u001b[0;32m<ipython-input-9-295e1434c29a>\u001b[0m in \u001b[0;36m<cell line: 3>\u001b[0;34m()\u001b[0m\n\u001b[1;32m      2\u001b[0m \u001b[0mestudiantes_5d\u001b[0m\u001b[0;34m.\u001b[0m\u001b[0mextend\u001b[0m\u001b[0;34m(\u001b[0m\u001b[0mestudiantes_5c\u001b[0m\u001b[0;34m)\u001b[0m\u001b[0;34m\u001b[0m\u001b[0;34m\u001b[0m\u001b[0m\n\u001b[1;32m      3\u001b[0m \u001b[0;32mfor\u001b[0m \u001b[0mestudiante\u001b[0m \u001b[0;32min\u001b[0m \u001b[0mestudiantes_5d\u001b[0m\u001b[0;34m:\u001b[0m\u001b[0;34m\u001b[0m\u001b[0;34m\u001b[0m\u001b[0m\n\u001b[0;32m----> 4\u001b[0;31m   \u001b[0mapellidos\u001b[0m \u001b[0;34m=\u001b[0m \u001b[0mestudiante\u001b[0m\u001b[0;34m[\u001b[0m\u001b[0;34m\"apellido\"\u001b[0m\u001b[0;34m]\u001b[0m\u001b[0;34m.\u001b[0m\u001b[0msplit\u001b[0m\u001b[0;34m(\u001b[0m\u001b[0;34m\" \"\u001b[0m\u001b[0;34m)\u001b[0m\u001b[0;34m\u001b[0m\u001b[0;34m\u001b[0m\u001b[0m\n\u001b[0m\u001b[1;32m      5\u001b[0m   \u001b[0;32mfor\u001b[0m \u001b[0mapellido\u001b[0m \u001b[0;32min\u001b[0m \u001b[0mapellidos\u001b[0m\u001b[0;34m:\u001b[0m\u001b[0;34m\u001b[0m\u001b[0;34m\u001b[0m\u001b[0m\n\u001b[1;32m      6\u001b[0m     \u001b[0;32mif\u001b[0m \u001b[0mapellido\u001b[0m \u001b[0;32min\u001b[0m \u001b[0mdict_apellidos\u001b[0m\u001b[0;34m.\u001b[0m\u001b[0mkeys\u001b[0m\u001b[0;34m(\u001b[0m\u001b[0;34m)\u001b[0m\u001b[0;34m:\u001b[0m\u001b[0;34m\u001b[0m\u001b[0;34m\u001b[0m\u001b[0m\n",
            "\u001b[0;31mTypeError\u001b[0m: tuple indices must be integers or slices, not str"
          ]
        }
      ]
    },
    {
      "cell_type": "markdown",
      "source": [
        "5. Solicita al usuario que ingrese un apellido y muestra  a todos los estudiantes con ese apellido."
      ],
      "metadata": {
        "id": "ywYmA2JQNp3T"
      }
    },
    {
      "cell_type": "code",
      "source": [
        "apellido = input(\"Ingrese un apellido:\").title()\n",
        "for estudiante in lista_dict:\n",
        "  if apellido in estudiante[\"apellido\"]:\n",
        "    print(estudiante)"
      ],
      "metadata": {
        "id": "Cnp334ZrOCjK",
        "outputId": "ac32fafc-1542-4b99-bf9a-e9d3b93c7b09",
        "colab": {
          "base_uri": "https://localhost:8080/"
        }
      },
      "execution_count": null,
      "outputs": [
        {
          "output_type": "stream",
          "name": "stdout",
          "text": [
            "Ingrese un apellido:guanca\n",
            "{'nombre': ['Marcelo', 'Fabricio'], 'apellido': 'Lascano Guanca', 'curso': 5, 'divicion': 'D', 'fecha de nacimiento': '17/02/2006'}\n"
          ]
        }
      ]
    },
    {
      "cell_type": "markdown",
      "source": [
        "6. Solicita al usuario que ingrese un nombre y muestra a todos los estudiantes con el nombre ingresado."
      ],
      "metadata": {
        "id": "iAXts6saODoU"
      }
    },
    {
      "cell_type": "code",
      "source": [
        "nombre = input(\"Ingrese un nombre:\").title()\n",
        "for estudiante in lista_dict:\n",
        "  if nombre in estudiante[\"nombre\"]:\n",
        "    print(estudiante)"
      ],
      "metadata": {
        "id": "FMRsUlvtOJS_",
        "outputId": "c2229e34-8a01-46c5-f073-77ad455c9fec",
        "colab": {
          "base_uri": "https://localhost:8080/"
        }
      },
      "execution_count": null,
      "outputs": [
        {
          "name": "stdout",
          "output_type": "stream",
          "text": [
            "Ingrese un nombre:sara\n"
          ]
        }
      ]
    },
    {
      "cell_type": "markdown",
      "source": [
        "7. Busca el diccionario con tu información dentro de la lista y cámbiate de división, de tal manera que si estas en 5C, con el cambio quedes en 5D y viceversa."
      ],
      "metadata": {
        "id": "T4PFiwwdOK27"
      }
    },
    {
      "cell_type": "code",
      "source": [
        "for estudiante in lista_dict:\n",
        "  if \"Sara\" in estudiante[\"nombre\"]:\n",
        "    print(estudiante)\n",
        "for estudiante in lista_dict:\n",
        "  print(estudiante)"
      ],
      "metadata": {
        "id": "vjQ2X9x3OmFr",
        "outputId": "10f45b76-962b-40ba-ed3c-fcfd397cf4f7",
        "colab": {
          "base_uri": "https://localhost:8080/"
        }
      },
      "execution_count": null,
      "outputs": [
        {
          "output_type": "stream",
          "name": "stdout",
          "text": [
            "{'nombre': ['Solange', 'Stefania'], 'apellido': 'Alurralde', 'curso': 5, 'divicion': 'D', 'fecha de nacimiento': '02/04/2007'}\n",
            "{'nombre': ['Ludmila', 'Del', 'Milagro'], 'apellido': 'Alvarado', 'curso': 5, 'divicion': 'D', 'fecha de nacimiento': '06/09/2006'}\n",
            "{'nombre': ['Camila', 'Juliana'], 'apellido': 'Angel', 'curso': 5, 'divicion': 'D', 'fecha de nacimiento': '07/03/2007'}\n",
            "{'nombre': ['Lucas', 'Gabriel'], 'apellido': 'Arenas', 'curso': 5, 'divicion': 'D', 'fecha de nacimiento': '26/06/2007'}\n",
            "{'nombre': ['Maria', 'Antonia'], 'apellido': 'Caseres', 'curso': 5, 'divicion': 'D', 'fecha de nacimiento': '01/07/2006'}\n",
            "{'nombre': ['Paulina', 'Milagros'], 'apellido': 'Castillo', 'curso': 5, 'divicion': 'D', 'fecha de nacimiento': '01/06/2007'}\n",
            "{'nombre': ['Hugo', 'Mariano'], 'apellido': 'Correa Segovia', 'curso': 5, 'divicion': 'D', 'fecha de nacimiento': '04/12/2006'}\n",
            "{'nombre': ['Alvaro', 'Tadeo'], 'apellido': 'D Elia', 'curso': 5, 'divicion': 'D', 'fecha de nacimiento': '27/08/2006'}\n",
            "{'nombre': ['Victoria', 'Agustina'], 'apellido': 'Flores', 'curso': 5, 'divicion': 'D', 'fecha de nacimiento': '12/12/2006'}\n",
            "{'nombre': ['Lizzie', 'Amaya'], 'apellido': 'Geronimo Soriano', 'curso': 5, 'divicion': 'D', 'fecha de nacimiento': '20/01/2007'}\n",
            "{'nombre': ['Angélica', 'Morena'], 'apellido': 'Guzman', 'curso': 5, 'divicion': 'D', 'fecha de nacimiento': '11/04/2007'}\n",
            "{'nombre': ['Jazmin', 'Esmeralda', 'Belen'], 'apellido': 'Guzman', 'curso': 5, 'divicion': 'D', 'fecha de nacimiento': '31/07/2006'}\n",
            "{'nombre': ['Anita', 'Maria', 'Belen'], 'apellido': 'Jaime', 'curso': 5, 'divicion': 'D', 'fecha de nacimiento': '19/04/2007'}\n",
            "{'nombre': ['Nazarena'], 'apellido': 'Lacour Polo', 'curso': 5, 'divicion': 'D', 'fecha de nacimiento': '19/12/2005'}\n",
            "{'nombre': ['Marcelo', 'Fabricio'], 'apellido': 'Lascano Guanca', 'curso': 5, 'divicion': 'D', 'fecha de nacimiento': '17/02/2006'}\n",
            "{'nombre': ['Celia', 'Morena'], 'apellido': 'Lezcano', 'curso': 5, 'divicion': 'D', 'fecha de nacimiento': '01/07/2005'}\n",
            "{'nombre': ['Tomas', 'Andres'], 'apellido': 'Martinez', 'curso': 5, 'divicion': 'D', 'fecha de nacimiento': '22/03/2007'}\n",
            "{'nombre': ['Pedro', 'Francisco'], 'apellido': 'Portella Valdivia', 'curso': 5, 'divicion': 'D', 'fecha de nacimiento': '24/01/2007'}\n",
            "{'nombre': ['Zacarias', 'Josue'], 'apellido': 'Retamal Cisneros', 'curso': 5, 'divicion': 'D', 'fecha de nacimiento': '24/02/2007'}\n",
            "{'nombre': ['Francisco', 'Gabriel'], 'apellido': 'Rosales', 'curso': 5, 'divicion': 'D', 'fecha de nacimiento': '14/11/2006'}\n",
            "{'nombre': ['Mahia'], 'apellido': 'Salem Barba', 'curso': 5, 'divicion': 'D', 'fecha de nacimiento': '14/10/2005'}\n",
            "{'nombre': ['Agustin', 'Ignacio'], 'apellido': 'Soto Camara', 'curso': 5, 'divicion': 'D', 'fecha de nacimiento': '07/11/2005'}\n",
            "{'nombre': ['Irina'], 'apellido': 'Villalba', 'curso': 5, 'divicion': 'D', 'fecha de nacimiento': '09/09/2006'}\n",
            "{'nombre': ['Emanuel', 'Tobias'], 'apellido': 'Voltolini', 'curso': 5, 'divicion': 'D', 'fecha de nacimiento': '17/09/2006'}\n",
            "{'nombre': ['Santino', 'Stefano'], 'apellido': 'Zalazar', 'curso': 5, 'divicion': 'D', 'fecha de nacimiento': '30/09/2006'}\n"
          ]
        }
      ]
    },
    {
      "cell_type": "markdown",
      "source": [
        "8. Ordenar la lista alfabeticamente por nombre. Ascendente y descendentemente. Para elegir como ordenarla, mostrar un menú donde el usuario podrá decidir como quiere ver la salida."
      ],
      "metadata": {
        "id": "xfy8SFlZRVGf"
      }
    },
    {
      "cell_type": "code",
      "source": [
        "orden=input(\"Elija como ordenar la lista:\\nA. Ascendente \\nD. Descendente\").upper()\n",
        "if orden ==\"A\":\n",
        "  lista_dict.sort(key=lambda x: x[\"nombre\"])\n",
        "  for estudiante in lista_dict:\n",
        "    print(estudiante)\n",
        "elif orden == \"D\":\n",
        "  lista_dict.sort(key=lambda x: x[\"nombre\"],reverse=True)\n",
        "  for estudiante in lista_dict:\n",
        "    print(estudiante)\n",
        "else:\n",
        "  print(\"Opcion invalida\")\n",
        "  orde=input(\"Elija como ordenar la lista: \\nA. Ascendente \\nD. Descendente\")"
      ],
      "metadata": {
        "id": "E4Onk1FNRUa2",
        "outputId": "93e836cc-679b-4397-fe35-fbb3e38d164e",
        "colab": {
          "base_uri": "https://localhost:8080/"
        }
      },
      "execution_count": null,
      "outputs": [
        {
          "output_type": "stream",
          "name": "stdout",
          "text": [
            "Elija como ordenar la lista:\n",
            "A. Ascendente \n",
            "D. DescendenteA\n",
            "{'nombre': ['Agustin', 'Ignacio'], 'apellido': 'Soto Camara', 'curso': 5, 'divicion': 'D', 'fecha de nacimiento': '07/11/2005'}\n",
            "{'nombre': ['Alvaro', 'Tadeo'], 'apellido': 'D Elia', 'curso': 5, 'divicion': 'D', 'fecha de nacimiento': '27/08/2006'}\n",
            "{'nombre': ['Angélica', 'Morena'], 'apellido': 'Guzman', 'curso': 5, 'divicion': 'D', 'fecha de nacimiento': '11/04/2007'}\n",
            "{'nombre': ['Anita', 'Maria', 'Belen'], 'apellido': 'Jaime', 'curso': 5, 'divicion': 'D', 'fecha de nacimiento': '19/04/2007'}\n",
            "{'nombre': ['Camila', 'Juliana'], 'apellido': 'Angel', 'curso': 5, 'divicion': 'D', 'fecha de nacimiento': '07/03/2007'}\n",
            "{'nombre': ['Celia', 'Morena'], 'apellido': 'Lezcano', 'curso': 5, 'divicion': 'D', 'fecha de nacimiento': '01/07/2005'}\n",
            "{'nombre': ['Emanuel', 'Tobias'], 'apellido': 'Voltolini', 'curso': 5, 'divicion': 'D', 'fecha de nacimiento': '17/09/2006'}\n",
            "{'nombre': ['Francisco', 'Gabriel'], 'apellido': 'Rosales', 'curso': 5, 'divicion': 'D', 'fecha de nacimiento': '14/11/2006'}\n",
            "{'nombre': ['Hugo', 'Mariano'], 'apellido': 'Correa Segovia', 'curso': 5, 'divicion': 'D', 'fecha de nacimiento': '04/12/2006'}\n",
            "{'nombre': ['Irina'], 'apellido': 'Villalba', 'curso': 5, 'divicion': 'D', 'fecha de nacimiento': '09/09/2006'}\n",
            "{'nombre': ['Jazmin', 'Esmeralda', 'Belen'], 'apellido': 'Guzman', 'curso': 5, 'divicion': 'D', 'fecha de nacimiento': '31/07/2006'}\n",
            "{'nombre': ['Lizzie', 'Amaya'], 'apellido': 'Geronimo Soriano', 'curso': 5, 'divicion': 'D', 'fecha de nacimiento': '20/01/2007'}\n",
            "{'nombre': ['Lucas', 'Gabriel'], 'apellido': 'Arenas', 'curso': 5, 'divicion': 'D', 'fecha de nacimiento': '26/06/2007'}\n",
            "{'nombre': ['Ludmila', 'Del', 'Milagro'], 'apellido': 'Alvarado', 'curso': 5, 'divicion': 'D', 'fecha de nacimiento': '06/09/2006'}\n",
            "{'nombre': ['Mahia'], 'apellido': 'Salem Barba', 'curso': 5, 'divicion': 'D', 'fecha de nacimiento': '14/10/2005'}\n",
            "{'nombre': ['Marcelo', 'Fabricio'], 'apellido': 'Lascano Guanca', 'curso': 5, 'divicion': 'D', 'fecha de nacimiento': '17/02/2006'}\n",
            "{'nombre': ['Maria', 'Antonia'], 'apellido': 'Caseres', 'curso': 5, 'divicion': 'D', 'fecha de nacimiento': '01/07/2006'}\n",
            "{'nombre': ['Nazarena'], 'apellido': 'Lacour Polo', 'curso': 5, 'divicion': 'D', 'fecha de nacimiento': '19/12/2005'}\n",
            "{'nombre': ['Paulina', 'Milagros'], 'apellido': 'Castillo', 'curso': 5, 'divicion': 'D', 'fecha de nacimiento': '01/06/2007'}\n",
            "{'nombre': ['Pedro', 'Francisco'], 'apellido': 'Portella Valdivia', 'curso': 5, 'divicion': 'D', 'fecha de nacimiento': '24/01/2007'}\n",
            "{'nombre': ['Santino', 'Stefano'], 'apellido': 'Zalazar', 'curso': 5, 'divicion': 'D', 'fecha de nacimiento': '30/09/2006'}\n",
            "{'nombre': ['Solange', 'Stefania'], 'apellido': 'Alurralde', 'curso': 5, 'divicion': 'D', 'fecha de nacimiento': '02/04/2007'}\n",
            "{'nombre': ['Tomas', 'Andres'], 'apellido': 'Martinez', 'curso': 5, 'divicion': 'D', 'fecha de nacimiento': '22/03/2007'}\n",
            "{'nombre': ['Victoria', 'Agustina'], 'apellido': 'Flores', 'curso': 5, 'divicion': 'D', 'fecha de nacimiento': '12/12/2006'}\n",
            "{'nombre': ['Zacarias', 'Josue'], 'apellido': 'Retamal Cisneros', 'curso': 5, 'divicion': 'D', 'fecha de nacimiento': '24/02/2007'}\n"
          ]
        }
      ]
    },
    {
      "cell_type": "markdown",
      "source": [
        "9. Ordenar la lista alfabeticamente por apellido. Ascendente y descendentemente. Para elegir como ordenarla, mostrar un menú donde el usuario podrá decidir como quiere ver la salida."
      ],
      "metadata": {
        "id": "lW18NgPjRcGP"
      }
    },
    {
      "cell_type": "code",
      "source": [
        "orden_2=input(\"Elija como ordenar la lista: \\nA. Ascendente por apellido nD. Descendente por apellido\").upper()\n",
        "if orden_2==\"A\":\n",
        "  lista_dict.sort(key=lambda x: x[\"apellido\"])\n",
        "  for estudiante in lista_dict:\n",
        "    print(estudiante)\n",
        "elif orden_2==\"D\":\n",
        "  lista_dict.sort(key=lambda x: x[\"apellido\"], reverse=True)\n",
        "  for estudiante in lista_dict:\n",
        "    print(estudiante)\n",
        "else:\n",
        "  print(\"Opcion invalida\")"
      ],
      "metadata": {
        "id": "jTtWBnalRcoC",
        "outputId": "0ba2ce38-6a92-4b77-844c-eca749328d44",
        "colab": {
          "base_uri": "https://localhost:8080/"
        }
      },
      "execution_count": null,
      "outputs": [
        {
          "output_type": "stream",
          "name": "stdout",
          "text": [
            "Elija como ordenar la lista: \n",
            "A. Ascendente por apellido nD. Descendente por apellidoD\n",
            "{'nombre': ['Santino', 'Stefano'], 'apellido': 'Zalazar', 'curso': 5, 'divicion': 'D', 'fecha de nacimiento': '30/09/2006'}\n",
            "{'nombre': ['Emanuel', 'Tobias'], 'apellido': 'Voltolini', 'curso': 5, 'divicion': 'D', 'fecha de nacimiento': '17/09/2006'}\n",
            "{'nombre': ['Irina'], 'apellido': 'Villalba', 'curso': 5, 'divicion': 'D', 'fecha de nacimiento': '09/09/2006'}\n",
            "{'nombre': ['Agustin', 'Ignacio'], 'apellido': 'Soto Camara', 'curso': 5, 'divicion': 'D', 'fecha de nacimiento': '07/11/2005'}\n",
            "{'nombre': ['Mahia'], 'apellido': 'Salem Barba', 'curso': 5, 'divicion': 'D', 'fecha de nacimiento': '14/10/2005'}\n",
            "{'nombre': ['Francisco', 'Gabriel'], 'apellido': 'Rosales', 'curso': 5, 'divicion': 'D', 'fecha de nacimiento': '14/11/2006'}\n",
            "{'nombre': ['Zacarias', 'Josue'], 'apellido': 'Retamal Cisneros', 'curso': 5, 'divicion': 'D', 'fecha de nacimiento': '24/02/2007'}\n",
            "{'nombre': ['Pedro', 'Francisco'], 'apellido': 'Portella Valdivia', 'curso': 5, 'divicion': 'D', 'fecha de nacimiento': '24/01/2007'}\n",
            "{'nombre': ['Tomas', 'Andres'], 'apellido': 'Martinez', 'curso': 5, 'divicion': 'D', 'fecha de nacimiento': '22/03/2007'}\n",
            "{'nombre': ['Celia', 'Morena'], 'apellido': 'Lezcano', 'curso': 5, 'divicion': 'D', 'fecha de nacimiento': '01/07/2005'}\n",
            "{'nombre': ['Marcelo', 'Fabricio'], 'apellido': 'Lascano Guanca', 'curso': 5, 'divicion': 'D', 'fecha de nacimiento': '17/02/2006'}\n",
            "{'nombre': ['Nazarena'], 'apellido': 'Lacour Polo', 'curso': 5, 'divicion': 'D', 'fecha de nacimiento': '19/12/2005'}\n",
            "{'nombre': ['Anita', 'Maria', 'Belen'], 'apellido': 'Jaime', 'curso': 5, 'divicion': 'D', 'fecha de nacimiento': '19/04/2007'}\n",
            "{'nombre': ['Angélica', 'Morena'], 'apellido': 'Guzman', 'curso': 5, 'divicion': 'D', 'fecha de nacimiento': '11/04/2007'}\n",
            "{'nombre': ['Jazmin', 'Esmeralda', 'Belen'], 'apellido': 'Guzman', 'curso': 5, 'divicion': 'D', 'fecha de nacimiento': '31/07/2006'}\n",
            "{'nombre': ['Lizzie', 'Amaya'], 'apellido': 'Geronimo Soriano', 'curso': 5, 'divicion': 'D', 'fecha de nacimiento': '20/01/2007'}\n",
            "{'nombre': ['Victoria', 'Agustina'], 'apellido': 'Flores', 'curso': 5, 'divicion': 'D', 'fecha de nacimiento': '12/12/2006'}\n",
            "{'nombre': ['Alvaro', 'Tadeo'], 'apellido': 'D Elia', 'curso': 5, 'divicion': 'D', 'fecha de nacimiento': '27/08/2006'}\n",
            "{'nombre': ['Hugo', 'Mariano'], 'apellido': 'Correa Segovia', 'curso': 5, 'divicion': 'D', 'fecha de nacimiento': '04/12/2006'}\n",
            "{'nombre': ['Paulina', 'Milagros'], 'apellido': 'Castillo', 'curso': 5, 'divicion': 'D', 'fecha de nacimiento': '01/06/2007'}\n",
            "{'nombre': ['Maria', 'Antonia'], 'apellido': 'Caseres', 'curso': 5, 'divicion': 'D', 'fecha de nacimiento': '01/07/2006'}\n",
            "{'nombre': ['Lucas', 'Gabriel'], 'apellido': 'Arenas', 'curso': 5, 'divicion': 'D', 'fecha de nacimiento': '26/06/2007'}\n",
            "{'nombre': ['Camila', 'Juliana'], 'apellido': 'Angel', 'curso': 5, 'divicion': 'D', 'fecha de nacimiento': '07/03/2007'}\n",
            "{'nombre': ['Ludmila', 'Del', 'Milagro'], 'apellido': 'Alvarado', 'curso': 5, 'divicion': 'D', 'fecha de nacimiento': '06/09/2006'}\n",
            "{'nombre': ['Solange', 'Stefania'], 'apellido': 'Alurralde', 'curso': 5, 'divicion': 'D', 'fecha de nacimiento': '02/04/2007'}\n"
          ]
        }
      ]
    },
    {
      "cell_type": "markdown",
      "source": [
        "10. Ordena la lista por fecha de nacimiento, de manera ascendente y descendente."
      ],
      "metadata": {
        "id": "E24lH7x5Xbur"
      }
    },
    {
      "cell_type": "code",
      "source": [
        "orden_3=input(\"Elija como ordenar la lista: \\nA. Ascendente por fecha de nacimiento \\nD. Descendente por fecha de nacimiento \").upper()\n",
        "if orden_3 == \"A\":\n",
        "  lista_dict.sort(key=lambda x: x[\"fecha_nacimiento\"])\n",
        "  for estudiante in lista_dict:\n",
        "    print(estudiante)\n",
        "elif orden_3 == \"D\":\n",
        "  lista_dict.sort(key=lambda x: x[\"fecha_nacimiento\"],reverse=True)\n",
        "  for estudiante in lista_dict:\n",
        "    print(estudiante)\n",
        "else:\n",
        "  print(\"Opcion invalida\")\n",
        "  orden_3=input(\"Elija como ordenar la lista: \\nA. Ascendente por fecha de nacimiento \\nD. Descendente por fecha de nacimiento \").upper()"
      ],
      "metadata": {
        "id": "9SeI3GBGXims",
        "outputId": "788c707b-0b1b-429f-afbe-4971205ba547",
        "colab": {
          "base_uri": "https://localhost:8080/",
          "height": 356
        }
      },
      "execution_count": null,
      "outputs": [
        {
          "output_type": "error",
          "ename": "KeyboardInterrupt",
          "evalue": "Interrupted by user",
          "traceback": [
            "\u001b[0;31m---------------------------------------------------------------------------\u001b[0m",
            "\u001b[0;31mKeyboardInterrupt\u001b[0m                         Traceback (most recent call last)",
            "\u001b[0;32m<ipython-input-17-0b22039d0205>\u001b[0m in \u001b[0;36m<cell line: 1>\u001b[0;34m()\u001b[0m\n\u001b[0;32m----> 1\u001b[0;31m \u001b[0morden_3\u001b[0m\u001b[0;34m=\u001b[0m\u001b[0minput\u001b[0m\u001b[0;34m(\u001b[0m\u001b[0;34m\"Elija como ordenar la lista: \\nA. Ascendente por fecha de nacimiento \\nD. Descendente por fecha de nacimiento \"\u001b[0m\u001b[0;34m)\u001b[0m\u001b[0;34m.\u001b[0m\u001b[0mupper\u001b[0m\u001b[0;34m(\u001b[0m\u001b[0;34m)\u001b[0m\u001b[0;34m\u001b[0m\u001b[0;34m\u001b[0m\u001b[0m\n\u001b[0m\u001b[1;32m      2\u001b[0m \u001b[0;32mif\u001b[0m \u001b[0morden_3\u001b[0m \u001b[0;34m==\u001b[0m \u001b[0;34m\"A\"\u001b[0m\u001b[0;34m:\u001b[0m\u001b[0;34m\u001b[0m\u001b[0;34m\u001b[0m\u001b[0m\n\u001b[1;32m      3\u001b[0m   \u001b[0mlista_dict\u001b[0m\u001b[0;34m.\u001b[0m\u001b[0msort\u001b[0m\u001b[0;34m(\u001b[0m\u001b[0mkey\u001b[0m\u001b[0;34m=\u001b[0m\u001b[0;32mlambda\u001b[0m \u001b[0mx\u001b[0m\u001b[0;34m:\u001b[0m \u001b[0mx\u001b[0m\u001b[0;34m[\u001b[0m\u001b[0;34m\"fecha_nacimiento\"\u001b[0m\u001b[0;34m]\u001b[0m\u001b[0;34m)\u001b[0m\u001b[0;34m\u001b[0m\u001b[0;34m\u001b[0m\u001b[0m\n\u001b[1;32m      4\u001b[0m   \u001b[0;32mfor\u001b[0m \u001b[0mestudiante\u001b[0m \u001b[0;32min\u001b[0m \u001b[0mlista_dict\u001b[0m\u001b[0;34m:\u001b[0m\u001b[0;34m\u001b[0m\u001b[0;34m\u001b[0m\u001b[0m\n\u001b[1;32m      5\u001b[0m     \u001b[0mprint\u001b[0m\u001b[0;34m(\u001b[0m\u001b[0mestudiante\u001b[0m\u001b[0;34m)\u001b[0m\u001b[0;34m\u001b[0m\u001b[0;34m\u001b[0m\u001b[0m\n",
            "\u001b[0;32m/usr/local/lib/python3.10/dist-packages/ipykernel/kernelbase.py\u001b[0m in \u001b[0;36mraw_input\u001b[0;34m(self, prompt)\u001b[0m\n\u001b[1;32m    849\u001b[0m                 \u001b[0;34m\"raw_input was called, but this frontend does not support input requests.\"\u001b[0m\u001b[0;34m\u001b[0m\u001b[0;34m\u001b[0m\u001b[0m\n\u001b[1;32m    850\u001b[0m             )\n\u001b[0;32m--> 851\u001b[0;31m         return self._input_request(str(prompt),\n\u001b[0m\u001b[1;32m    852\u001b[0m             \u001b[0mself\u001b[0m\u001b[0;34m.\u001b[0m\u001b[0m_parent_ident\u001b[0m\u001b[0;34m,\u001b[0m\u001b[0;34m\u001b[0m\u001b[0;34m\u001b[0m\u001b[0m\n\u001b[1;32m    853\u001b[0m             \u001b[0mself\u001b[0m\u001b[0;34m.\u001b[0m\u001b[0m_parent_header\u001b[0m\u001b[0;34m,\u001b[0m\u001b[0;34m\u001b[0m\u001b[0;34m\u001b[0m\u001b[0m\n",
            "\u001b[0;32m/usr/local/lib/python3.10/dist-packages/ipykernel/kernelbase.py\u001b[0m in \u001b[0;36m_input_request\u001b[0;34m(self, prompt, ident, parent, password)\u001b[0m\n\u001b[1;32m    893\u001b[0m             \u001b[0;32mexcept\u001b[0m \u001b[0mKeyboardInterrupt\u001b[0m\u001b[0;34m:\u001b[0m\u001b[0;34m\u001b[0m\u001b[0;34m\u001b[0m\u001b[0m\n\u001b[1;32m    894\u001b[0m                 \u001b[0;31m# re-raise KeyboardInterrupt, to truncate traceback\u001b[0m\u001b[0;34m\u001b[0m\u001b[0;34m\u001b[0m\u001b[0m\n\u001b[0;32m--> 895\u001b[0;31m                 \u001b[0;32mraise\u001b[0m \u001b[0mKeyboardInterrupt\u001b[0m\u001b[0;34m(\u001b[0m\u001b[0;34m\"Interrupted by user\"\u001b[0m\u001b[0;34m)\u001b[0m \u001b[0;32mfrom\u001b[0m \u001b[0;32mNone\u001b[0m\u001b[0;34m\u001b[0m\u001b[0;34m\u001b[0m\u001b[0m\n\u001b[0m\u001b[1;32m    896\u001b[0m             \u001b[0;32mexcept\u001b[0m \u001b[0mException\u001b[0m \u001b[0;32mas\u001b[0m \u001b[0me\u001b[0m\u001b[0;34m:\u001b[0m\u001b[0;34m\u001b[0m\u001b[0;34m\u001b[0m\u001b[0m\n\u001b[1;32m    897\u001b[0m                 \u001b[0mself\u001b[0m\u001b[0;34m.\u001b[0m\u001b[0mlog\u001b[0m\u001b[0;34m.\u001b[0m\u001b[0mwarning\u001b[0m\u001b[0;34m(\u001b[0m\u001b[0;34m\"Invalid Message:\"\u001b[0m\u001b[0;34m,\u001b[0m \u001b[0mexc_info\u001b[0m\u001b[0;34m=\u001b[0m\u001b[0;32mTrue\u001b[0m\u001b[0;34m)\u001b[0m\u001b[0;34m\u001b[0m\u001b[0;34m\u001b[0m\u001b[0m\n",
            "\u001b[0;31mKeyboardInterrupt\u001b[0m: Interrupted by user"
          ]
        }
      ]
    },
    {
      "cell_type": "markdown",
      "source": [
        "11. Generar una estuctura de diccionario anidado en donde la clave sea el nombre del estudiante y el valor sea un diccionario con los datos del mismo, de la siguiente manera:\n",
        "\n",
        "\n",
        "\n",
        "\n",
        "```python\n",
        "estudiantes = {\n",
        "    \"Juan Perez\": {\n",
        "        \"año\": 2024,\n",
        "        \"división\": \"5D\",\n",
        "        \"fecha de nacimiento\": \"15/03/2006\"\n",
        "    },\n",
        "    \"Maria Gomez\": {\n",
        "        \"año\": 2024,\n",
        "        \"división\": \"5D\",\n",
        "        \"fecha de nacimiento\": \"22/07/2006\"\n",
        "    },\n",
        "    \"Carlos Lopez\": {\n",
        "        \"año\": 2024,\n",
        "        \"división\": \"5D\",\n",
        "        \"fecha de nacimiento\": \"05/10/2006\"\n",
        "    }\n",
        "}\n",
        "```\n",
        "\n",
        "\n",
        "\n",
        "\n"
      ],
      "metadata": {
        "id": "vOY6K_ydRc3Q"
      }
    },
    {
      "cell_type": "code",
      "source": [
        "estudiantes_2 = {}\n",
        "for estudiante in lista_dict:\n",
        "  nombre_completo = estudiante.get('nombre', '') + ' ' + estudiante.get('apellido', '')\n",
        "  division,curso,fecha_nacimiento=estudiante.get('division'),estudiante.get('curso'),estudiante.get('fecha_nacimiento')\n",
        "  dic={}\n",
        "  dic[\"division\"]=curso,division\n",
        "  dic[\"fecha_nacimiento\"]=fecha_nacimiento\n",
        "  dic[\"año\"]=2024\n",
        "  estudiantes_2[nombre_completo] = dic\n",
        "for estudiante,valor in estudiantes_2.items():\n",
        "  print(estudiante,valor)"
      ],
      "metadata": {
        "id": "9JDrd3WqRdTi"
      },
      "execution_count": null,
      "outputs": []
    }
  ]
}